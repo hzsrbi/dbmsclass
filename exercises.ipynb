{
 "cells": [
  {
   "cell_type": "markdown",
   "metadata": {},
   "source": [
    "Class excesises"
   ]
  },
  {
   "cell_type": "markdown",
   "metadata": {},
   "source": [
    "Ex 1: \n",
    "برنامه ایی بنویسید که دو عدد از ورودی (کاربر) گرفته و ضرب و تقسیم و\n",
    "تفریق آن دو عدد را محاسبه و در خروجی چاپ کند"
   ]
  },
  {
   "cell_type": "code",
   "execution_count": null,
   "metadata": {},
   "outputs": [],
   "source": [
    "a = float ( input ('Please enter the first number'))\n",
    "b = float (input ('Please enter the second number'))\n",
    "print ('The multipication of your entered numbers is: ', a*b, 'and the divition is:', a / b)b"
   ]
  },
  {
   "cell_type": "markdown",
   "metadata": {},
   "source": [
    "Ex 2:\n",
    "برنامه ایی بنویسید که از ورودی کاراکتری رو دریافت میکنه و\n",
    "اون رو داخل لیست قرار میده و در خروجی چاپ میکنه"
   ]
  },
  {
   "cell_type": "code",
   "execution_count": 1,
   "metadata": {},
   "outputs": [
    {
     "name": "stdout",
     "output_type": "stream",
     "text": [
      "Hormoz Sohrabi\n"
     ]
    }
   ],
   "source": [
    "yname = str (input('Enter your name:'))\n",
    "List = [yname]\n",
    "print (yname)"
   ]
  },
  {
   "cell_type": "markdown",
   "metadata": {},
   "source": [
    "Ex 3:\n",
    "برنامه ایی بنویسد که اسم و نمره  ۵ دانشجو را گرفته و اگر نمره\n",
    "آن دانشجو بالای  ۱۰ بود پیامی را در صفحه نمایش مبنی بر\n",
    "قبولی و در صورتی که پایین  ۱۰ بود پیامی را در صفحه نمایش\n",
    "مبنی بر رد شد آن شکل نمایش دهد و در پایان تمامی اسم ها\n",
    "و نمرات را در یک لیست اضافه کرده و آن لیست را نمایش دهد"
   ]
  },
  {
   "cell_type": "code",
   "execution_count": null,
   "metadata": {},
   "outputs": [],
   "source": [
    "student_name=[]\n",
    "student_score=[]\n",
    "for i in range(5):\n",
    "    name = (input('Please enter the student name:'))\n",
    "    student_name.append(name)\n",
    "    score = float (input ('Please enter the score in 20 scale:'))\n",
    "    student_score.append(score)\n",
    "    if score >= 10:\n",
    "     print(name, 'passed the exame successfully.')\n",
    "    else:\n",
    "        print(name, 'faield the exame.')\n",
    "\n",
    "\n",
    "student_scores = [student_name,student_score]\n",
    "print(student_scores)"
   ]
  },
  {
   "cell_type": "markdown",
   "metadata": {},
   "source": [
    "Ex 5:\n",
    "تمرین : اشکال برنامه ی زیر چیست ؟"
   ]
  },
  {
   "cell_type": "code",
   "execution_count": null,
   "metadata": {},
   "outputs": [],
   "source": [
    "m = str (input(\"Enter the message;\\n\"))\n",
    "while 1:\n",
    "    if m == 'Mohammad':\n",
    "     break\n",
    "else:\n",
    "    print('try again')\n",
    "\n",
    "    # لوپ بینهایت"
   ]
  },
  {
   "cell_type": "markdown",
   "metadata": {},
   "source": [
    "Ex 6:\n",
    "با توجه به تعاریف برنامه نویسی فانکشنال (تابع نویسی) یک ماشین حساب\n",
    "با امکان تعریف منو و انتخاب کاربر از منو برای  ۴عمل اصلی ریاضی (ضرب\n",
    "تقسیم جمع و ضرب) بنویسید."
   ]
  },
  {
   "cell_type": "code",
   "execution_count": 34,
   "metadata": {},
   "outputs": [
    {
     "name": "stdout",
     "output_type": "stream",
     "text": [
      "2.0\n"
     ]
    }
   ],
   "source": [
    "x = float(input('enter the first number'))\n",
    "y = float(input('enter the second number'))\n",
    "def plus (x,y):\n",
    "    return x + y\n",
    "def minus (x,y):\n",
    "    return x - y\n",
    "def multiplication (x,y):\n",
    "    return x * y\n",
    "def divide (x,y):\n",
    "    return x / y\n",
    "pl_result = plus(x,y)\n",
    "min_result = minus(x,y)\n",
    "mul_result = multiplication(x,y)\n",
    "div_result = divide(x,y)\n",
    "choose_operation = input ('which operation do you like to use? answer by entering a sign + - * /')\n",
    "if choose_operation == '+':\n",
    "    print(pl_result)\n",
    "elif choose_operation == '-':\n",
    "    print(min_result)\n",
    "elif choose_operation == '*':\n",
    "    print(mul_result)\n",
    "elif choose_operation == '/':\n",
    "    print(div_result)\n"
   ]
  }
 ],
 "metadata": {
  "kernelspec": {
   "display_name": "Python 3",
   "language": "python",
   "name": "python3"
  },
  "language_info": {
   "codemirror_mode": {
    "name": "ipython",
    "version": 3
   },
   "file_extension": ".py",
   "mimetype": "text/x-python",
   "name": "python",
   "nbconvert_exporter": "python",
   "pygments_lexer": "ipython3",
   "version": "3.12.1"
  }
 },
 "nbformat": 4,
 "nbformat_minor": 2
}
